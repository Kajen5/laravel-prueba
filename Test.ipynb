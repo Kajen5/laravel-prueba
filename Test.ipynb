{
  "cells": [
    {
      "cell_type": "code",
      "execution_count": 1,
      "metadata": {},
      "outputs": [],
      "source": [
        "server = 'http://localhost:80'"
      ]
    },
    {
      "cell_type": "code",
      "execution_count": 6,
      "metadata": {},
      "outputs": [],
      "source": [
        "import requests\n",
        "email = \"ee@gmail.com\"\n",
        "header = {\n",
        "  'Accept': 'application/json',\n",
        "  'Content-type': 'application/json',\n",
        "}"
      ]
    },
    {
      "cell_type": "markdown",
      "metadata": {},
      "source": [
        "# AUTH"
      ]
    },
    {
      "cell_type": "code",
      "execution_count": 7,
      "metadata": {
        "colab": {
          "base_uri": "https://localhost:8080/"
        },
        "id": "m5mpsL8d_a00",
        "outputId": "223cdd69-429d-48a1-b591-55014b94fa8a"
      },
      "outputs": [
        {
          "name": "stdout",
          "output_type": "stream",
          "text": [
            "http://localhost:80/api/auth/custom-registration\n",
            "422\n",
            "{\"message\":\"The given data was invalid.\",\"errors\":{\"email\":[\"The email has already been taken.\"]}}\n"
          ]
        }
      ],
      "source": [
        "#POST /api/v1/auth/register\n",
        "url = f'{server}/api/auth/custom-registration'\n",
        "print(url)\n",
        "\n",
        "data = {\n",
        "  \"password\":\"string\",\n",
        "  \"name\":\"string\",\n",
        "  \"lastname\":\"string\",\n",
        "  \"email\":email,\n",
        "}\n",
        "r = requests.post(url, headers = header,json=data)\n",
        "print(r.status_code)\n",
        "if r.status_code == 201:\n",
        "  sanctum = r.json()['success']['token']\n",
        "  header['Authorization'] =  'Bearer ' + sanctum\n",
        "print(r.text)"
      ]
    },
    {
      "cell_type": "code",
      "execution_count": 8,
      "metadata": {
        "colab": {
          "base_uri": "https://localhost:8080/"
        },
        "id": "LpxT1jdrFrVV",
        "outputId": "89586087-65e6-4dab-ca59-49e59d67bcc5"
      },
      "outputs": [
        {
          "name": "stdout",
          "output_type": "stream",
          "text": [
            "http://localhost:80/api/auth/custom-login\n",
            "201\n",
            "{\"success\":{\"token\":\"5|ZZIpDXHLSOH2FOgm5bxuqq4oPL0psmkRAeHOOUri\"}}\n"
          ]
        }
      ],
      "source": [
        "#POST api/v1/auth/login\n",
        "url = f'{server}/api/auth/custom-login'\n",
        "print(url)\n",
        "\n",
        "data = {\n",
        "  \"password\": \"string\",\n",
        "  \"email\": email\n",
        "}\n",
        "r = requests.post(url, headers = header,json=data)\n",
        "print(r.status_code)\n",
        "if r.status_code == 201:\n",
        "  sanctum = r.json()['success']['token']\n",
        "  header['Authorization'] =  'Bearer ' + sanctum\n",
        "print(r.text)"
      ]
    },
    {
      "cell_type": "code",
      "execution_count": 37,
      "metadata": {
        "colab": {
          "base_uri": "https://localhost:8080/"
        },
        "id": "HOhv1-xyG-DY",
        "outputId": "28a4740c-cbd9-4603-f979-1eb62849956a"
      },
      "outputs": [
        {
          "name": "stdout",
          "output_type": "stream",
          "text": [
            "http://localhost:80/api/auth/ShowUserlist\n",
            "201\n",
            "[[{\"id\":1,\"name\":\"string\",\"email\":\"ngcesarng@gmail.com\",\"email_verified_at\":null,\"created_at\":\"2022-01-27T01:19:47.000000Z\",\"updated_at\":\"2022-01-27T01:19:47.000000Z\",\"lastname\":\"string\"},{\"id\":2,\"name\":\"string\",\"email\":\"ee@gmail.com\",\"email_verified_at\":null,\"created_at\":\"2022-01-27T03:36:17.000000Z\",\"updated_at\":\"2022-01-27T03:36:17.000000Z\",\"lastname\":\"string\"}]]\n"
          ]
        }
      ],
      "source": [
        "#POST /api/v1/auth/reset\n",
        "url = f'{server}/api/auth/ShowUserlist'\n",
        "print(url)\n",
        "r = requests.get(url, headers = header)\n",
        "print(r.status_code)\n",
        "print(r.text)"
      ]
    },
    {
      "cell_type": "code",
      "execution_count": 40,
      "metadata": {
        "id": "dDj8QXG5L6fq"
      },
      "outputs": [
        {
          "name": "stdout",
          "output_type": "stream",
          "text": [
            "http://localhost:80/api/auth/signout\n",
            "201\n",
            "{\"message\":\"Success\"}\n"
          ]
        }
      ],
      "source": [
        "#POST /api/v1/auth/reset\n",
        "url = f'{server}/api/auth/signout'\n",
        "print(url)\n",
        "r = requests.get(url, headers = header)\n",
        "print(r.status_code)\n",
        "print(r.text)"
      ]
    },
    {
      "cell_type": "markdown",
      "metadata": {},
      "source": [
        "# orders"
      ]
    },
    {
      "cell_type": "code",
      "execution_count": null,
      "metadata": {},
      "outputs": [],
      "source": []
    },
    {
      "cell_type": "markdown",
      "metadata": {},
      "source": []
    },
    {
      "cell_type": "code",
      "execution_count": 12,
      "metadata": {},
      "outputs": [
        {
          "name": "stdout",
          "output_type": "stream",
          "text": [
            "http://localhost:80/api/orders\n",
            "201\n",
            "{\"order_number\":555,\"date\":\"2022-01-28 09:43:59.422987\",\"amount\":\"1.5\",\"status\":\"active\",\"user_id\":1,\"id\":2}\n"
          ]
        }
      ],
      "source": [
        "import datetime\n",
        "url = f'{server}/api/orders'\n",
        "print(url)\n",
        "data = {\n",
        "        'order_number':555,\n",
        "        'date':str(datetime.datetime.now()),\n",
        "        'amount':'1.5',\n",
        "        'status':'active'\n",
        "}\n",
        "r = requests.post(url, headers = header,json=data)\n",
        "print(r.status_code)\n",
        "print(r.text)\n",
        "orders_id = r.json()['id']"
      ]
    },
    {
      "cell_type": "code",
      "execution_count": 61,
      "metadata": {},
      "outputs": [
        {
          "name": "stdout",
          "output_type": "stream",
          "text": [
            "http://localhost:80/api/orders/4\n",
            "{'Accept': 'application/json', 'Content-type': 'application/json', 'Authorization': 'Bearer 16|KF7nJbl488823zQ7xAuxZK6g53FcwSKv3MIhK9gK'}\n",
            "201\n",
            "[{\"id\":4,\"order_number\":\"95\",\"date\":\"2022-01-27 17:54:31.194269\",\"amount\":\"1.2\",\"status\":\"active\",\"orders_detail_id\":null,\"user_id\":2}]\n"
          ]
        }
      ],
      "source": [
        "import datetime\n",
        "url = f'{server}/api/orders/{orders_id}'\n",
        "print(url)\n",
        "data = {\n",
        "        'date':str(datetime.datetime.now()),\n",
        "        'amount':'1.2',\n",
        "        'status':'active'\n",
        "}\n",
        "r = requests.put(url, headers = header,json=data)\n",
        "print(r.status_code)\n",
        "print(r.text)"
      ]
    },
    {
      "cell_type": "code",
      "execution_count": 48,
      "metadata": {},
      "outputs": [
        {
          "name": "stdout",
          "output_type": "stream",
          "text": [
            "http://localhost:80/api/orders\n",
            "201\n",
            "[[]]\n"
          ]
        }
      ],
      "source": [
        "url = f'{server}/api/orders'\n",
        "print(url)\n",
        "r = requests.get(url, headers = header)\n",
        "print(r.status_code)\n",
        "print(r.text)"
      ]
    },
    {
      "cell_type": "code",
      "execution_count": 63,
      "metadata": {},
      "outputs": [
        {
          "name": "stdout",
          "output_type": "stream",
          "text": [
            "http://localhost:80/api/orders/4\n",
            "201\n",
            "{\"message\":\"Success\"}\n"
          ]
        }
      ],
      "source": [
        "url = f'{server}/api/orders/{orders_id}'\n",
        "print(url)\n",
        "r = requests.delete(url, headers = header)\n",
        "print(r.status_code)\n",
        "print(r.text)"
      ]
    },
    {
      "cell_type": "markdown",
      "metadata": {},
      "source": [
        "# orders_detail"
      ]
    },
    {
      "cell_type": "code",
      "execution_count": 13,
      "metadata": {},
      "outputs": [
        {
          "name": "stdout",
          "output_type": "stream",
          "text": [
            "http://localhost:80/api/orders_detail\n",
            "201\n",
            "{\"item\":\"chocolate\",\"price\":\"3\",\"quantity\":\"59\",\"total\":\"564\",\"order_id\":2,\"id\":5}\n"
          ]
        }
      ],
      "source": [
        "# AUTH\n",
        "url = f'{server}/api/orders_detail'\n",
        "print(url)\n",
        "data = {\n",
        "  'item': \"chocolate\", \n",
        "        'price':\"3\",\n",
        "        'quantity':\"59\",\n",
        "        'total':\"564\",\n",
        "        'order_id':orders_id\n",
        "}\n",
        "r = requests.post(url, headers = header,json=data)\n",
        "print(r.status_code)\n",
        "print(r.text)\n",
        "order_detail_id = r.json()['id']"
      ]
    },
    {
      "cell_type": "code",
      "execution_count": 123,
      "metadata": {},
      "outputs": [
        {
          "name": "stdout",
          "output_type": "stream",
          "text": [
            "http://localhost:80/api/orders_detail/1\n",
            "201\n",
            "{\"id\":1,\"item\":\"1111\",\"quantity\":\"1.5\",\"price\":\"3\",\"total\":\"564\",\"order_id\":1}\n"
          ]
        }
      ],
      "source": [
        "url = f'{server}/api/orders_detail/{order_detail_id}'\n",
        "print(url)\n",
        "data = {\n",
        "        'item': \"1111\", \n",
        "        'quantity':\"1.5\",\n",
        "        'price':\"3\",\n",
        "        'total':\"564\",\n",
        "}\n",
        "r = requests.put(url, headers = header,json=data)\n",
        "print(r.status_code)\n",
        "print(r.text)"
      ]
    },
    {
      "cell_type": "code",
      "execution_count": 124,
      "metadata": {},
      "outputs": [
        {
          "name": "stdout",
          "output_type": "stream",
          "text": [
            "http://localhost:80/api/orders_detail\n",
            "201\n",
            "[[{\"id\":1,\"item\":\"1111\",\"quantity\":1.5,\"price\":3,\"total\":564,\"order_id\":1}]]\n"
          ]
        }
      ],
      "source": [
        "url = f'{server}/api/orders_detail'\n",
        "print(url)\n",
        "r = requests.get(url, headers = header)\n",
        "print(r.status_code)\n",
        "print(r.text)"
      ]
    },
    {
      "cell_type": "code",
      "execution_count": 85,
      "metadata": {},
      "outputs": [
        {
          "name": "stdout",
          "output_type": "stream",
          "text": [
            "http://localhost:80/api/orders_detail/2\n",
            "201\n",
            "{\"message\":\"Success\"}\n"
          ]
        }
      ],
      "source": [
        "url = f'{server}/api/orders_detail/{order_detail_id}'\n",
        "print(url)\n",
        "r = requests.delete(url, headers = header)\n",
        "print(r.status_code)\n",
        "print(r.text)"
      ]
    },
    {
      "cell_type": "markdown",
      "metadata": {},
      "source": [
        "# otros"
      ]
    },
    {
      "cell_type": "code",
      "execution_count": 50,
      "metadata": {},
      "outputs": [
        {
          "name": "stdout",
          "output_type": "stream",
          "text": [
            "http://localhost:80/api/otros\n",
            "200\n",
            "[{\"date\":\"2022-01-28 00:17:30\",\"order_number\":\"55\",\"amount\":1.5,\"status\":\"active\",\"item\":\"1111\",\"quantity\":1.5,\"price\":3,\"total\":564,\"name\":\"string\"},{\"date\":\"2022-01-28 00:17:30\",\"order_number\":\"55\",\"amount\":1.5,\"status\":\"active\",\"item\":\"chocolate\",\"quantity\":59,\"price\":3,\"total\":564,\"name\":\"string\"},{\"date\":\"2022-01-28 00:17:30\",\"order_number\":\"55\",\"amount\":1.5,\"status\":\"active\",\"item\":\"chocolate\",\"quantity\":59,\"price\":3,\"total\":564,\"name\":\"string\"},{\"date\":\"2022-01-28 00:17:30\",\"order_number\":\"55\",\"amount\":1.5,\"status\":\"active\",\"item\":\"chocolate\",\"quantity\":59,\"price\":3,\"total\":564,\"name\":\"string\"},{\"date\":\"2022-01-28 09:43:59\",\"order_number\":\"555\",\"amount\":1.5,\"status\":\"active\",\"item\":\"chocolate\",\"quantity\":59,\"price\":3,\"total\":564,\"name\":\"string\"}]\n"
          ]
        },
        {
          "data": {
            "text/html": [
              "<div>\n",
              "<style scoped>\n",
              "    .dataframe tbody tr th:only-of-type {\n",
              "        vertical-align: middle;\n",
              "    }\n",
              "\n",
              "    .dataframe tbody tr th {\n",
              "        vertical-align: top;\n",
              "    }\n",
              "\n",
              "    .dataframe thead th {\n",
              "        text-align: right;\n",
              "    }\n",
              "</style>\n",
              "<table border=\"1\" class=\"dataframe\">\n",
              "  <thead>\n",
              "    <tr style=\"text-align: right;\">\n",
              "      <th></th>\n",
              "      <th>date</th>\n",
              "      <th>order_number</th>\n",
              "      <th>amount</th>\n",
              "      <th>status</th>\n",
              "      <th>item</th>\n",
              "      <th>quantity</th>\n",
              "      <th>price</th>\n",
              "      <th>total</th>\n",
              "      <th>name</th>\n",
              "    </tr>\n",
              "  </thead>\n",
              "  <tbody>\n",
              "    <tr>\n",
              "      <th>0</th>\n",
              "      <td>2022-01-28 00:17:30</td>\n",
              "      <td>55</td>\n",
              "      <td>1.5</td>\n",
              "      <td>active</td>\n",
              "      <td>1111</td>\n",
              "      <td>1.5</td>\n",
              "      <td>3</td>\n",
              "      <td>564</td>\n",
              "      <td>string</td>\n",
              "    </tr>\n",
              "    <tr>\n",
              "      <th>1</th>\n",
              "      <td>2022-01-28 00:17:30</td>\n",
              "      <td>55</td>\n",
              "      <td>1.5</td>\n",
              "      <td>active</td>\n",
              "      <td>chocolate</td>\n",
              "      <td>59.0</td>\n",
              "      <td>3</td>\n",
              "      <td>564</td>\n",
              "      <td>string</td>\n",
              "    </tr>\n",
              "    <tr>\n",
              "      <th>2</th>\n",
              "      <td>2022-01-28 00:17:30</td>\n",
              "      <td>55</td>\n",
              "      <td>1.5</td>\n",
              "      <td>active</td>\n",
              "      <td>chocolate</td>\n",
              "      <td>59.0</td>\n",
              "      <td>3</td>\n",
              "      <td>564</td>\n",
              "      <td>string</td>\n",
              "    </tr>\n",
              "    <tr>\n",
              "      <th>3</th>\n",
              "      <td>2022-01-28 00:17:30</td>\n",
              "      <td>55</td>\n",
              "      <td>1.5</td>\n",
              "      <td>active</td>\n",
              "      <td>chocolate</td>\n",
              "      <td>59.0</td>\n",
              "      <td>3</td>\n",
              "      <td>564</td>\n",
              "      <td>string</td>\n",
              "    </tr>\n",
              "    <tr>\n",
              "      <th>4</th>\n",
              "      <td>2022-01-28 09:43:59</td>\n",
              "      <td>555</td>\n",
              "      <td>1.5</td>\n",
              "      <td>active</td>\n",
              "      <td>chocolate</td>\n",
              "      <td>59.0</td>\n",
              "      <td>3</td>\n",
              "      <td>564</td>\n",
              "      <td>string</td>\n",
              "    </tr>\n",
              "  </tbody>\n",
              "</table>\n",
              "</div>"
            ],
            "text/plain": [
              "                  date order_number  amount  status       item  quantity  \\\n",
              "0  2022-01-28 00:17:30           55     1.5  active       1111       1.5   \n",
              "1  2022-01-28 00:17:30           55     1.5  active  chocolate      59.0   \n",
              "2  2022-01-28 00:17:30           55     1.5  active  chocolate      59.0   \n",
              "3  2022-01-28 00:17:30           55     1.5  active  chocolate      59.0   \n",
              "4  2022-01-28 09:43:59          555     1.5  active  chocolate      59.0   \n",
              "\n",
              "   price  total    name  \n",
              "0      3    564  string  \n",
              "1      3    564  string  \n",
              "2      3    564  string  \n",
              "3      3    564  string  \n",
              "4      3    564  string  "
            ]
          },
          "execution_count": 50,
          "metadata": {},
          "output_type": "execute_result"
        }
      ],
      "source": [
        "import pandas as pd\n",
        "url = f'{server}/api/otros'\n",
        "print(url)\n",
        "data = {\"helo\":\"heeu\"}\n",
        "r = requests.get(url, headers = header,json=data)\n",
        "print(r.status_code)\n",
        "import json\n",
        "a_json = json.loads(r.text)\n",
        "print(r.text)\n",
        "pd.DataFrame.from_dict(a_json)"
      ]
    },
    {
      "cell_type": "code",
      "execution_count": 114,
      "metadata": {},
      "outputs": [
        {
          "name": "stdout",
          "output_type": "stream",
          "text": [
            "http://localhost:80/api/otros\n",
            "[('files[]', <_io.BufferedReader name='doc.pdf'>), ('files[]', <_io.BufferedReader name='doc2.pdf'>)]\n",
            "201\n",
            "[[]]\n"
          ]
        }
      ],
      "source": [
        "url = f'{server}/api/otros'\n",
        "print(url)\n",
        "files = [('files[]',open('doc.pdf', 'rb')),('files[]', open('doc2.pdf', 'rb'))]\n",
        "#files = [('doc.pdf',open('doc.pdf', 'rb')),('doc2.pdf', open('doc2.pdf', 'rb'))]\n",
        "#files = {'files':[open('doc.pdf', 'rb'), open('doc2.pdf', 'rb')]}\n",
        "#files = {'files':[('doc.pdf',open('doc.pdf', 'rb')), ('doc2.pdf',open('doc2.pdf', 'rb'))]}\n",
        "#files = [('files', \"hola\"), ('files', \"hola\")]\n",
        "header2 = {\n",
        "    'Accept': 'application/json',\n",
        "   'Content-type': 'multipart/form-data'\n",
        "}\n",
        "print(files)\n",
        "header2['Authorization'] =  'Bearer ' + sanctum\n",
        "r = requests.post(url, files=files, headers=header2)\n",
        "print(r.status_code)\n",
        "print(r.text)"
      ]
    },
    {
      "cell_type": "markdown",
      "metadata": {},
      "source": []
    }
  ],
  "metadata": {
    "colab": {
      "collapsed_sections": [],
      "name": "CodeSkiller.ipynb",
      "provenance": []
    },
    "interpreter": {
      "hash": "e7370f93d1d0cde622a1f8e1c04877d8463912d04d973331ad4851f04de6915a"
    },
    "kernelspec": {
      "display_name": "Python 3.9.4 64-bit",
      "name": "python3"
    },
    "language_info": {
      "codemirror_mode": {
        "name": "ipython",
        "version": 3
      },
      "file_extension": ".py",
      "mimetype": "text/x-python",
      "name": "python",
      "nbconvert_exporter": "python",
      "pygments_lexer": "ipython3",
      "version": "3.9.4"
    }
  },
  "nbformat": 4,
  "nbformat_minor": 0
}
